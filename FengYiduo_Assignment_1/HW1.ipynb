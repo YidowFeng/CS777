{
 "cells": [
  {
   "cell_type": "code",
   "execution_count": 1,
   "metadata": {
    "collapsed": true
   },
   "outputs": [],
   "source": [
    "from __future__ import print_function\n",
    "import numpy as np\n",
    "import os\n",
    "import sys\n",
    "import requests\n",
    "from operator import add\n",
    "from pyspark.sql import SparkSession\n",
    "from pyspark import SparkContext\n",
    "import pandas as pd\n",
    "import time\n",
    "import matplotlib.pyplot as plt\n"
   ]
  },
  {
   "cell_type": "code",
   "execution_count": null,
   "metadata": {
    "pycharm": {
     "name": "#%%\n"
    }
   },
   "outputs": [],
   "source": []
  },
  {
   "cell_type": "code",
   "execution_count": null,
   "metadata": {
    "pycharm": {
     "name": "#%%\n"
    }
   },
   "outputs": [],
   "source": []
  },
  {
   "cell_type": "markdown",
   "metadata": {
    "pycharm": {
     "name": "#%% md\n"
    }
   },
   "source": []
  },
  {
   "cell_type": "code",
   "execution_count": 1,
   "metadata": {
    "pycharm": {
     "name": "#%%\n"
    }
   },
   "outputs": [
    {
     "ename": "NameError",
     "evalue": "name 'SparkContext' is not defined",
     "output_type": "error",
     "traceback": [
      "\u001B[1;31m---------------------------------------------------------------------------\u001B[0m",
      "\u001B[1;31mNameError\u001B[0m                                 Traceback (most recent call last)",
      "Input \u001B[1;32mIn [1]\u001B[0m, in \u001B[0;36m<cell line: 1>\u001B[1;34m()\u001B[0m\n\u001B[1;32m----> 1\u001B[0m sc \u001B[38;5;241m=\u001B[39m \u001B[43mSparkContext\u001B[49m\u001B[38;5;241m.\u001B[39mgetOrCreate()\n\u001B[0;32m      2\u001B[0m \u001B[38;5;66;03m#read file\u001B[39;00m\n\u001B[0;32m      3\u001B[0m movies \u001B[38;5;241m=\u001B[39m sc\u001B[38;5;241m.\u001B[39mtextFile(\u001B[38;5;124m'\u001B[39m\u001B[38;5;124mC:/Users/Yidow/Desktop/cs777-new/FengYiduo_Assignment_1/ml-10M100K/movies.dat\u001B[39m\u001B[38;5;124m'\u001B[39m)\n",
      "\u001B[1;31mNameError\u001B[0m: name 'SparkContext' is not defined"
     ]
    }
   ],
   "source": [
    "sc = SparkContext.getOrCreate()\n",
    "#read file\n",
    "movies = sc.textFile('C:/Users/Yidow/Desktop/cs777-new/FengYiduo_Assignment_1/ml-10M100K/movies.dat')\n",
    "movies = movies.map(lambda line: line.split(\"::\"))\n",
    "\n",
    "ratings = sc.textFile('C:/Users/Yidow/Desktop/cs777-new/FengYiduo_Assignment_1/ml-10M100K/ratings.dat')\n",
    "ratings = ratings.map(lambda line: line.split(\"::\"))\n",
    "\n",
    "rate_tmp = ratings.map(lambda x: (x[1],float(x[2])))\n",
    "rate_tmp = rate_tmp.mapValues(lambda v: (v, 1)) \\\n",
    "    .reduceByKey(lambda a,b: (a[0]+b[0], a[1]+b[1])) \\\n",
    "    .mapValues(lambda v: v[0]/v[1])\n",
    "\n",
    "# rate_tmp =rate_tmp.reduceByKey(add)\n",
    "print(rate_tmp.collect())\n",
    "# movies = pd.read_table('C:/Users/Yidow/Desktop/cs777-new/FengYiduo_Assignment_1/ml-10M100K/movies.dat')\n",
    "# ratings = pd.read_table('C:/Users/Yidow/Desktop/cs777-new/FengYiduo_Assignment_1/ml-10M100K/ratings.dat')\n",
    "#\n",
    "# # rating = []\n",
    "# # with open('C:/Users/Yidow/Desktop/cs777-new/FengYiduo_Assignment_1/ml-10M100K/ratings.dat','r')as file:\n",
    "# #     for line in file:\n",
    "# #         cur = line.split(\"::\")\n",
    "#         rating.append([cur[1],cur[2]])"
   ]
  },
  {
   "cell_type": "code",
   "execution_count": 3,
   "metadata": {
    "pycharm": {
     "name": "#%%\n"
    }
   },
   "outputs": [
    {
     "data": {
      "image/png": "[encoded data removed]",
      "text/plain": [
       "<Figure size 432x288 with 1 Axes>"
      ]
     },
     "metadata": {
      "needs_background": "light"
     },
     "output_type": "display_data"
    }
   ],
   "source": [
    "x=[]\n",
    "y=[]\n",
    "with open('C:/Users/Yidow/Desktop/cs777-new/FengYiduo_Assignment_1/ml-10M100K/ratings.dat','r')as file:\n",
    "    for line in file:\n",
    "        cur = line.split(\"::\")\n",
    "        x.append(cur[1])\n",
    "        y.append(cur[2])\n",
    "plt.hist(y)\n",
    "plt.show()"
   ]
  },
  {
   "cell_type": "markdown",
   "metadata": {
    "pycharm": {
     "name": "#%% md\n"
    }
   },
   "source": [
    "##Task 1 : Top-10 Active Taxis (5 points)\n",
    "Many different taxis have had multiple drivers. Write and execute a Python program that computes the top ten taxis that have had the largest number of drivers. Your output should be a set of (medallion, number of drivers) pairs.\n",
    "Note: You should consider that this is a real world data set that might include wrongly formatted data lines. You should clean up the data before the main processing, a line might not include all of the fields. If a data line is not correctly formatted, you should drop that line and do not consider it.\n",
    "Report the processing time of the task as well."
   ]
  },
  {
   "cell_type": "code",
   "execution_count": 12,
   "metadata": {
    "pycharm": {
     "name": "#%%\n"
    }
   },
   "outputs": [
    {
     "name": "stdout",
     "output_type": "stream",
     "text": [
      "[('65EFB7D02BAD12D5DE757CB5D350944E', 20), ('3C08296D0EB7ABE24FB7328DE9B62813', 20), ('799153A138F4E8334A1A95AE25040B83', 19), ('F36564AB9C6EA3B6373EB0E1680A447A', 19), ('3B6AE3CF05F34ADC91DC68D20F2EB913', 19), ('55D311AD2752BC278BEF7386B25B28A9', 19), ('7DEB25123AE57111F912C0EBF92F1F63', 19), ('CD7B02776E69483397952DC5E1F44DFE', 19), ('F2A08960199BCDB7EE19411A8E7A4C5D', 18), ('6B15D153B49701AD86A2E62468990B73', 18)]\n",
      "26.245346069335938\n"
     ]
    }
   ],
   "source": [
    "time_start = time.time()\n",
    "#start spark\n",
    "sc = SparkContext.getOrCreate()\n",
    "#read file\n",
    "file = sc.textFile(\"C:/Users/Yidow/Desktop/cs777-new/taxi-data-sorted-small.csv\")\n",
    "#split line\n",
    "file = file.map(lambda line: line.split(\",\"))\n",
    "#medallion and hack license\n",
    "\n",
    "ids = file.map(lambda x:((x[0],x[1]))).distinct()\n",
    "ids = ids.map(lambda line: (line[0],1))\n",
    "re1 = ids.reduceByKey(add).top(10,lambda x:x[1])\n",
    "\n",
    "print(re1)\n",
    "\n",
    "time_end = time.time()\n",
    "runTime = time_end-time_start\n",
    "print(runTime)\n"
   ]
  },
  {
   "cell_type": "code",
   "execution_count": 57,
   "metadata": {
    "pycharm": {
     "name": "#%%\n"
    }
   },
   "outputs": [],
   "source": [
    " #stop spark\n",
    "sc.stop()"
   ]
  },
  {
   "cell_type": "markdown",
   "metadata": {
    "pycharm": {
     "name": "#%% md\n"
    }
   },
   "source": [
    "##Task 2 - Top-10 Best Drivers (7 Points)\n",
    "We would like to figure out who the top 10 best drivers are in terms of their average earned money per minute spent carrying a customer. The total amount field is the total money earned on a trip. In the end, we are interested in computing a set of (driver, money per minute) pairs.\n",
    "Report the processing time of the task as well.\n"
   ]
  },
  {
   "cell_type": "code",
   "execution_count": 25,
   "metadata": {
    "pycharm": {
     "name": "#%%\n"
    }
   },
   "outputs": [
    {
     "name": "stdout",
     "output_type": "stream",
     "text": [
      "[('32187D24B8C6D9DC9B1254330292F42E', 45.33626373626374), ('7930AF3429B99C59346390635AFDFFCF', 37.31236942250107), ('011AE79C7E609378068514E5C992B6D6', 31.47058823529412), ('583D58A6E31DBAF275DDFAD1857448D2', 26.619718309859156), ('C42ABFD8903E6A5B2E81EA6331B05700', 22.25260749613081), ('C742CFD86A6B2ABFB9CD7228286766CA', 17.313432835820894), ('62A757062319F29FA98D15C8DF8A6BF6', 13.844295302013423), ('7BDFF06419C23F667C5D69EEFBF091BE', 11.313253012048193), ('7F274F176A7BA8D55B5A7D0F2580634C', 7.301946902654868), ('BD50C5800362CB05615C52A0370E1A80', 7.247362012987013)]\n",
      "22.648643255233765\n"
     ]
    }
   ],
   "source": [
    "#Exception Handling and removing wrong datalines\n",
    "def isfloat(value):\n",
    "    try:\n",
    "        float(value)\n",
    "        return True\n",
    "\n",
    "    except:\n",
    "         return False\n",
    "def correctRows(p):\n",
    "    if(len(p)==17):\n",
    "        if(isfloat(p[5]) and isfloat(p[11])):\n",
    "            if(float(p[4])> 60 and float(p[5])>0 and float(p[11])> 0 and float(p[16])> 0):\n",
    "                return p\n",
    "    return 0\n",
    "\n",
    "\n",
    "time_start = time.time()\n",
    "sc = SparkContext.getOrCreate();\n",
    "#read file\n",
    "file = sc.textFile(\"C:/Users/Yidow/Desktop/cs777-new/taxi-data-sorted-small.csv\")\n",
    "#split line\n",
    "file = file.map(lambda line: line.split(\",\")).filter(correctRows)\n",
    "\n",
    "re2 = file.filter(lambda x: x != '0')\n",
    "re2 = re2.map(lambda line: (line[1], float(line[16])/(float(line[4])/60) if float(line[4])/60 else 0))\n",
    "re2 = re2.aggregateByKey((0,0), lambda a,b: (a[0] + b,    a[1] + 1),\n",
    "                                       lambda a,b: (a[0] + b[0], a[1] + b[1]))\n",
    "re2 = re2.mapValues(lambda x: x[0]/x[1])\n",
    "re2 = re2.top(10, key=lambda p: p[1])\n",
    "\n",
    "print(re2)\n",
    "\n",
    "# re2 = file.filter(lambda x: x != '0')\n",
    "# re21 = re2.map(lambda x: (x[1],float(x[16]))).reduceByKey(add)\n",
    "# re22 = re2.map(lambda x: (x[1],(float(x[4])/60) if float(x[4])/60 else 0)).reduceByKey(add)\n",
    "# re23 = re21.join(re22)\n",
    "# re24 = re23.map(lambda x:(x[0], (x[1][0]/x[1][1] if x[1][1]!=0 else 0)))\n",
    "# print(re24.top(10, key=lambda x: x[1]))\n",
    "\n",
    "time_end = time.time()\n",
    "runTime = time_end-time_start\n",
    "print(runTime)"
   ]
  },
  {
   "cell_type": "markdown",
   "metadata": {
    "pycharm": {
     "name": "#%% md\n"
    }
   },
   "source": [
    "##Task 3 - Best time of the day to Work on Taxi (8 Points)\n",
    "We would like to know which hour of the day is the best time for drivers that has the highest profit per miles. Consider the surcharge amount in dollar for each taxi ride (without tip amount) and the distance in miles, and sum up the rides for each hour of the day (24 hours) – consider the pickup time for your calculation. The profit ratio is the ration surcharge in dollar divided by the travel distance in miles for each specific time of the day.\n",
    "Profit Ratio = (Surcharge Amount in US Dollar) / (Travel Distance in miles) We are interested to know the time of the day that has the highest profit ratio.\n",
    "Report the processing time of the task as well.\n"
   ]
  },
  {
   "cell_type": "code",
   "execution_count": 28,
   "metadata": {
    "pycharm": {
     "name": "#%%\n"
    }
   },
   "outputs": [
    {
     "name": "stdout",
     "output_type": "stream",
     "text": [
      "[('2013-01-02 17:09:00', 100.0), ('2013-01-02 19:59:00', 100.0), ('2013-01-03 19:43:00', 100.0), ('2013-01-04 16:32:00', 100.0), ('2013-01-04 17:20:00', 100.0), ('2013-01-04 17:34:00', 100.0), ('2013-01-14 16:18:00', 100.0), ('2013-01-14 16:46:00', 100.0), ('2013-01-15 17:06:00', 100.0), ('2013-01-15 17:46:00', 100.0)]\n",
      "11.401250839233398\n"
     ]
    }
   ],
   "source": [
    "#Exception Handling and removing wrong datalines\n",
    "def isfloat(value):\n",
    "    try:\n",
    "        float(value)\n",
    "        return True\n",
    "\n",
    "    except:\n",
    "         return False\n",
    "def correctRows(p):\n",
    "    if(len(p)==17):\n",
    "        if(isfloat(p[5]) and isfloat(p[11])):\n",
    "            if(float(p[4])> 60 and float(p[5])>0 and float(p[11])> 0 and float(p[16])> 0):\n",
    "                return p\n",
    "    return 0\n",
    "\n",
    "time_start = time.time()\n",
    "sc = SparkContext.getOrCreate();\n",
    "#read file\n",
    "file = sc.textFile(\"C:/Users/Yidow/Desktop/cs777-new/taxi-data-sorted-small.csv\")\n",
    "#split line\n",
    "file = file.map(lambda line: line.split(\",\")).filter(correctRows)\n",
    "re3 = file.filter(lambda x: x != '0')\n",
    "re3 = file.map(lambda x: (x[2], float(x[12])/float(x[5])))\n",
    "re3 = re3.top(10, key=lambda p: p[1])\n",
    "print(re3)\n",
    "\n",
    "time_end = time.time()\n",
    "runTime = time_end-time_start\n",
    "print(runTime)"
   ]
  },
  {
   "cell_type": "markdown",
   "metadata": {
    "pycharm": {
     "name": "#%% md\n"
    }
   },
   "source": [
    "According to the results above, 17-18 is the best time for taxi."
   ]
  }
 ],
 "metadata": {
  "kernelspec": {
   "display_name": "Python 3 (ipykernel)",
   "language": "python",
   "name": "python3"
  },
  "language_info": {
   "codemirror_mode": {
    "name": "ipython",
    "version": 3
   },
   "file_extension": ".py",
   "mimetype": "text/x-python",
   "name": "python",
   "nbconvert_exporter": "python",
   "pygments_lexer": "ipython3",
   "version": "3.9.12"
  }
 },
 "nbformat": 4,
 "nbformat_minor": 1
}